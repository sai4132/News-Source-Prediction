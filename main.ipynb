{
 "cells": [
  {
   "cell_type": "code",
   "execution_count": 1,
   "id": "09344197",
   "metadata": {},
   "outputs": [
    {
     "name": "stdout",
     "output_type": "stream",
     "text": [
      "Requirement already satisfied: gensim in c:\\users\\pc\\anaconda3\\lib\\site-packages (4.3.0)\n",
      "Requirement already satisfied: numpy>=1.18.5 in c:\\users\\pc\\anaconda3\\lib\\site-packages (from gensim) (1.24.3)\n",
      "Requirement already satisfied: scipy>=1.7.0 in c:\\users\\pc\\anaconda3\\lib\\site-packages (from gensim) (1.11.1)\n",
      "Requirement already satisfied: smart-open>=1.8.1 in c:\\users\\pc\\anaconda3\\lib\\site-packages (from gensim) (5.2.1)\n",
      "Requirement already satisfied: FuzzyTM>=0.4.0 in c:\\users\\pc\\anaconda3\\lib\\site-packages (from gensim) (2.0.5)\n",
      "Requirement already satisfied: pandas in c:\\users\\pc\\anaconda3\\lib\\site-packages (from FuzzyTM>=0.4.0->gensim) (1.5.3)\n",
      "Requirement already satisfied: pyfume in c:\\users\\pc\\anaconda3\\lib\\site-packages (from FuzzyTM>=0.4.0->gensim) (0.2.25)\n",
      "Requirement already satisfied: python-dateutil>=2.8.1 in c:\\users\\pc\\anaconda3\\lib\\site-packages (from pandas->FuzzyTM>=0.4.0->gensim) (2.8.2)\n",
      "Requirement already satisfied: pytz>=2020.1 in c:\\users\\pc\\anaconda3\\lib\\site-packages (from pandas->FuzzyTM>=0.4.0->gensim) (2022.7)\n",
      "Requirement already satisfied: simpful in c:\\users\\pc\\anaconda3\\lib\\site-packages (from pyfume->FuzzyTM>=0.4.0->gensim) (2.11.0)\n",
      "Requirement already satisfied: fst-pso in c:\\users\\pc\\anaconda3\\lib\\site-packages (from pyfume->FuzzyTM>=0.4.0->gensim) (1.8.1)\n",
      "Requirement already satisfied: six>=1.5 in c:\\users\\pc\\anaconda3\\lib\\site-packages (from python-dateutil>=2.8.1->pandas->FuzzyTM>=0.4.0->gensim) (1.16.0)\n",
      "Requirement already satisfied: miniful in c:\\users\\pc\\anaconda3\\lib\\site-packages (from fst-pso->pyfume->FuzzyTM>=0.4.0->gensim) (0.0.6)\n"
     ]
    }
   ],
   "source": [
    "# import dependencies\n",
    "import numpy as np\n",
    "import pandas as pd\n",
    "!pip install gensim\n",
    "from sklearn import utils \n",
    "from gensim.models import Doc2Vec\n",
    "from gensim.models.doc2vec import TaggedDocument\n",
    "from sklearn.model_selection import train_test_split\n"
   ]
  },
  {
   "cell_type": "code",
   "execution_count": 2,
   "id": "b5192161",
   "metadata": {},
   "outputs": [
    {
     "data": {
      "text/html": [
       "<div>\n",
       "<style scoped>\n",
       "    .dataframe tbody tr th:only-of-type {\n",
       "        vertical-align: middle;\n",
       "    }\n",
       "\n",
       "    .dataframe tbody tr th {\n",
       "        vertical-align: top;\n",
       "    }\n",
       "\n",
       "    .dataframe thead th {\n",
       "        text-align: right;\n",
       "    }\n",
       "</style>\n",
       "<table border=\"1\" class=\"dataframe\">\n",
       "  <thead>\n",
       "    <tr style=\"text-align: right;\">\n",
       "      <th></th>\n",
       "      <th>ID</th>\n",
       "      <th>TITLE</th>\n",
       "      <th>URL</th>\n",
       "      <th>PUBLISHER</th>\n",
       "      <th>CATEGORY</th>\n",
       "      <th>STORY</th>\n",
       "      <th>HOSTNAME</th>\n",
       "      <th>TIMESTAMP</th>\n",
       "    </tr>\n",
       "  </thead>\n",
       "  <tbody>\n",
       "    <tr>\n",
       "      <th>0</th>\n",
       "      <td>1</td>\n",
       "      <td>Fed official says weak data caused by weather,...</td>\n",
       "      <td>http://www.latimes.com/business/money/la-fi-mo...</td>\n",
       "      <td>Los Angeles Times</td>\n",
       "      <td>b</td>\n",
       "      <td>ddUyU0VZz0BRneMioxUPQVP6sIxvM</td>\n",
       "      <td>www.latimes.com</td>\n",
       "      <td>1394470370698</td>\n",
       "    </tr>\n",
       "    <tr>\n",
       "      <th>1</th>\n",
       "      <td>2</td>\n",
       "      <td>Fed's Charles Plosser sees high bar for change...</td>\n",
       "      <td>http://www.livemint.com/Politics/H2EvwJSK2VE6O...</td>\n",
       "      <td>Livemint</td>\n",
       "      <td>b</td>\n",
       "      <td>ddUyU0VZz0BRneMioxUPQVP6sIxvM</td>\n",
       "      <td>www.livemint.com</td>\n",
       "      <td>1394470371207</td>\n",
       "    </tr>\n",
       "    <tr>\n",
       "      <th>2</th>\n",
       "      <td>3</td>\n",
       "      <td>US open: Stocks fall after Fed official hints ...</td>\n",
       "      <td>http://www.ifamagazine.com/news/us-open-stocks...</td>\n",
       "      <td>IFA Magazine</td>\n",
       "      <td>b</td>\n",
       "      <td>ddUyU0VZz0BRneMioxUPQVP6sIxvM</td>\n",
       "      <td>www.ifamagazine.com</td>\n",
       "      <td>1394470371550</td>\n",
       "    </tr>\n",
       "  </tbody>\n",
       "</table>\n",
       "</div>"
      ],
      "text/plain": [
       "   ID                                              TITLE  \\\n",
       "0   1  Fed official says weak data caused by weather,...   \n",
       "1   2  Fed's Charles Plosser sees high bar for change...   \n",
       "2   3  US open: Stocks fall after Fed official hints ...   \n",
       "\n",
       "                                                 URL          PUBLISHER  \\\n",
       "0  http://www.latimes.com/business/money/la-fi-mo...  Los Angeles Times   \n",
       "1  http://www.livemint.com/Politics/H2EvwJSK2VE6O...           Livemint   \n",
       "2  http://www.ifamagazine.com/news/us-open-stocks...       IFA Magazine   \n",
       "\n",
       "  CATEGORY                          STORY             HOSTNAME      TIMESTAMP  \n",
       "0        b  ddUyU0VZz0BRneMioxUPQVP6sIxvM      www.latimes.com  1394470370698  \n",
       "1        b  ddUyU0VZz0BRneMioxUPQVP6sIxvM     www.livemint.com  1394470371207  \n",
       "2        b  ddUyU0VZz0BRneMioxUPQVP6sIxvM  www.ifamagazine.com  1394470371550  "
      ]
     },
     "execution_count": 2,
     "metadata": {},
     "output_type": "execute_result"
    }
   ],
   "source": [
    "# Read data set\n",
    "df = pd.read_csv('uci-news-aggregator.csv') \n",
    "df.head(3)"
   ]
  },
  {
   "cell_type": "code",
   "execution_count": 3,
   "id": "2601a9b0",
   "metadata": {},
   "outputs": [
    {
     "name": "stdout",
     "output_type": "stream",
     "text": [
      "Fed's Charles Plosser sees high bar for change in pace of tapering\n"
     ]
    }
   ],
   "source": [
    "a=df['TITLE'][1]\n",
    "print(a)"
   ]
  },
  {
   "cell_type": "code",
   "execution_count": 4,
   "id": "96ce6356",
   "metadata": {},
   "outputs": [
    {
     "data": {
      "text/plain": [
       "Index(['ID', 'TITLE', 'URL', 'PUBLISHER', 'CATEGORY', 'STORY', 'HOSTNAME',\n",
       "       'TIMESTAMP'],\n",
       "      dtype='object')"
      ]
     },
     "execution_count": 4,
     "metadata": {},
     "output_type": "execute_result"
    }
   ],
   "source": [
    "df.columns"
   ]
  },
  {
   "cell_type": "code",
   "execution_count": 5,
   "id": "b5690c41",
   "metadata": {},
   "outputs": [
    {
     "data": {
      "text/plain": [
       "Reuters                            3902\n",
       "Huffington Post                    2455\n",
       "Businessweek                       2395\n",
       "Contactmusic.com                   2334\n",
       "Daily Mail                         2254\n",
       "                                   ... \n",
       "Broadway Blog \\(blog\\)                1\n",
       "Breckenridge American                 1\n",
       "SanFranciscoSentinel.com              1\n",
       "Wicked Local North Attleborough       1\n",
       "Journeyman Weekly                     1\n",
       "Name: PUBLISHER, Length: 10985, dtype: int64"
      ]
     },
     "execution_count": 5,
     "metadata": {},
     "output_type": "execute_result"
    }
   ],
   "source": [
    "df['PUBLISHER'].value_counts() #frequency of each Publisher in the datset"
   ]
  },
  {
   "cell_type": "code",
   "execution_count": 6,
   "id": "4159a0d7",
   "metadata": {},
   "outputs": [
    {
     "name": "stdout",
     "output_type": "stream",
     "text": [
      "                                               TITLE          PUBLISHER\n",
      "0  Fed official says weak data caused by weather,...  Los Angeles Times\n",
      "1  Fed's Charles Plosser sees high bar for change...           Livemint\n",
      "2  US open: Stocks fall after Fed official hints ...       IFA Magazine\n",
      "3  Fed risks falling 'behind the curve', Charles ...       IFA Magazine\n",
      "4  Fed's Plosser: Nasty Weather Has Curbed Job Gr...          Moneynews\n"
     ]
    }
   ],
   "source": [
    "news=df[['TITLE','PUBLISHER']] #news datset containing only article text(TITLE) and publisher name\n",
    "print(news.head())"
   ]
  },
  {
   "cell_type": "code",
   "execution_count": 7,
   "id": "c56c2205",
   "metadata": {},
   "outputs": [],
   "source": [
    "#filtering articles of more frequent publishers\n",
    "filtered_publishers=(news['PUBLISHER'].value_counts()>2000 )& (news['PUBLISHER'].value_counts()<3000)"
   ]
  },
  {
   "cell_type": "code",
   "execution_count": 8,
   "id": "3e1a3bd1",
   "metadata": {},
   "outputs": [
    {
     "data": {
      "text/plain": [
       "Huffington Post     True\n",
       "Businessweek        True\n",
       "Contactmusic.com    True\n",
       "Daily Mail          True\n",
       "NASDAQ              True\n",
       "Examiner.com        True\n",
       "Name: PUBLISHER, dtype: bool"
      ]
     },
     "execution_count": 8,
     "metadata": {},
     "output_type": "execute_result"
    }
   ],
   "source": [
    "filtered_publishers[filtered_publishers]"
   ]
  },
  {
   "cell_type": "code",
   "execution_count": 9,
   "id": "64409920",
   "metadata": {},
   "outputs": [],
   "source": [
    "required_publishers=filtered_publishers[filtered_publishers].index\n",
    "news_articles=news[news['PUBLISHER'].isin(required_publishers)]"
   ]
  },
  {
   "cell_type": "code",
   "execution_count": 10,
   "id": "11909dfc",
   "metadata": {},
   "outputs": [
    {
     "data": {
      "text/html": [
       "<div>\n",
       "<style scoped>\n",
       "    .dataframe tbody tr th:only-of-type {\n",
       "        vertical-align: middle;\n",
       "    }\n",
       "\n",
       "    .dataframe tbody tr th {\n",
       "        vertical-align: top;\n",
       "    }\n",
       "\n",
       "    .dataframe thead th {\n",
       "        text-align: right;\n",
       "    }\n",
       "</style>\n",
       "<table border=\"1\" class=\"dataframe\">\n",
       "  <thead>\n",
       "    <tr style=\"text-align: right;\">\n",
       "      <th></th>\n",
       "      <th>TITLE</th>\n",
       "      <th>PUBLISHER</th>\n",
       "    </tr>\n",
       "  </thead>\n",
       "  <tbody>\n",
       "    <tr>\n",
       "      <th>236419</th>\n",
       "      <td>Angelina Jolie On Motherhood, Future Collabora...</td>\n",
       "      <td>Contactmusic.com</td>\n",
       "    </tr>\n",
       "    <tr>\n",
       "      <th>416011</th>\n",
       "      <td>Fugitive 'who violated his parole' is captured...</td>\n",
       "      <td>Daily Mail</td>\n",
       "    </tr>\n",
       "    <tr>\n",
       "      <th>398941</th>\n",
       "      <td>Watch Baby Loggerhead Sea Turtles Hatch On Flo...</td>\n",
       "      <td>Huffington Post</td>\n",
       "    </tr>\n",
       "    <tr>\n",
       "      <th>104653</th>\n",
       "      <td>4 Ways You May Be Able to Prepare and File You...</td>\n",
       "      <td>NASDAQ</td>\n",
       "    </tr>\n",
       "    <tr>\n",
       "      <th>316724</th>\n",
       "      <td>Good News on Health-Care Spending Is Making US...</td>\n",
       "      <td>Businessweek</td>\n",
       "    </tr>\n",
       "    <tr>\n",
       "      <th>144389</th>\n",
       "      <td>Moderate Gains for Technology Shares; Cbeyond ...</td>\n",
       "      <td>NASDAQ</td>\n",
       "    </tr>\n",
       "    <tr>\n",
       "      <th>305555</th>\n",
       "      <td>Puts Shrink Amid Longest Run of Market Calm Si...</td>\n",
       "      <td>Businessweek</td>\n",
       "    </tr>\n",
       "    <tr>\n",
       "      <th>33766</th>\n",
       "      <td>Anna Wintour - Anna Wintour Defends Kim Kardas...</td>\n",
       "      <td>Contactmusic.com</td>\n",
       "    </tr>\n",
       "    <tr>\n",
       "      <th>51225</th>\n",
       "      <td>Obamacare's 6-Million Target Hit as Exchange S...</td>\n",
       "      <td>Businessweek</td>\n",
       "    </tr>\n",
       "    <tr>\n",
       "      <th>411010</th>\n",
       "      <td>Movie review: 'Guardians of the Galaxy' a retu...</td>\n",
       "      <td>Examiner.com</td>\n",
       "    </tr>\n",
       "    <tr>\n",
       "      <th>48871</th>\n",
       "      <td>Speed To Blame For Paul Walker's Tragic Car Crash</td>\n",
       "      <td>Huffington Post</td>\n",
       "    </tr>\n",
       "    <tr>\n",
       "      <th>79449</th>\n",
       "      <td>Novartis to Seek Heart Drug Approval After Tes...</td>\n",
       "      <td>Businessweek</td>\n",
       "    </tr>\n",
       "    <tr>\n",
       "      <th>53749</th>\n",
       "      <td>Unfinished Business: What I Learned From</td>\n",
       "      <td>Huffington Post</td>\n",
       "    </tr>\n",
       "    <tr>\n",
       "      <th>205293</th>\n",
       "      <td>'Neighbors' knocks Spider-Man from top of box ...</td>\n",
       "      <td>Examiner.com</td>\n",
       "    </tr>\n",
       "    <tr>\n",
       "      <th>74315</th>\n",
       "      <td>TV Provider Mergers: Less Choice at Higher Cost?</td>\n",
       "      <td>Examiner.com</td>\n",
       "    </tr>\n",
       "    <tr>\n",
       "      <th>205097</th>\n",
       "      <td>Leaked Photos Give Us A First Look At The New ...</td>\n",
       "      <td>Huffington Post</td>\n",
       "    </tr>\n",
       "    <tr>\n",
       "      <th>261847</th>\n",
       "      <td>'My Big Fat Greek Wedding' Sequel In The Works...</td>\n",
       "      <td>Huffington Post</td>\n",
       "    </tr>\n",
       "    <tr>\n",
       "      <th>343702</th>\n",
       "      <td>China Stocks Rise to Post Longest Winning Stre...</td>\n",
       "      <td>Businessweek</td>\n",
       "    </tr>\n",
       "    <tr>\n",
       "      <th>302125</th>\n",
       "      <td>BOE's Miles Fuels U.K. Rate-Rise Expectations ...</td>\n",
       "      <td>NASDAQ</td>\n",
       "    </tr>\n",
       "    <tr>\n",
       "      <th>71455</th>\n",
       "      <td>U.S. to Require Rear-Visibility Technology in ...</td>\n",
       "      <td>NASDAQ</td>\n",
       "    </tr>\n",
       "  </tbody>\n",
       "</table>\n",
       "</div>"
      ],
      "text/plain": [
       "                                                    TITLE         PUBLISHER\n",
       "236419  Angelina Jolie On Motherhood, Future Collabora...  Contactmusic.com\n",
       "416011  Fugitive 'who violated his parole' is captured...        Daily Mail\n",
       "398941  Watch Baby Loggerhead Sea Turtles Hatch On Flo...   Huffington Post\n",
       "104653  4 Ways You May Be Able to Prepare and File You...            NASDAQ\n",
       "316724  Good News on Health-Care Spending Is Making US...      Businessweek\n",
       "144389  Moderate Gains for Technology Shares; Cbeyond ...            NASDAQ\n",
       "305555  Puts Shrink Amid Longest Run of Market Calm Si...      Businessweek\n",
       "33766   Anna Wintour - Anna Wintour Defends Kim Kardas...  Contactmusic.com\n",
       "51225   Obamacare's 6-Million Target Hit as Exchange S...      Businessweek\n",
       "411010  Movie review: 'Guardians of the Galaxy' a retu...      Examiner.com\n",
       "48871   Speed To Blame For Paul Walker's Tragic Car Crash   Huffington Post\n",
       "79449   Novartis to Seek Heart Drug Approval After Tes...      Businessweek\n",
       "53749            Unfinished Business: What I Learned From   Huffington Post\n",
       "205293  'Neighbors' knocks Spider-Man from top of box ...      Examiner.com\n",
       "74315    TV Provider Mergers: Less Choice at Higher Cost?      Examiner.com\n",
       "205097  Leaked Photos Give Us A First Look At The New ...   Huffington Post\n",
       "261847  'My Big Fat Greek Wedding' Sequel In The Works...   Huffington Post\n",
       "343702  China Stocks Rise to Post Longest Winning Stre...      Businessweek\n",
       "302125  BOE's Miles Fuels U.K. Rate-Rise Expectations ...            NASDAQ\n",
       "71455   U.S. to Require Rear-Visibility Technology in ...            NASDAQ"
      ]
     },
     "execution_count": 10,
     "metadata": {},
     "output_type": "execute_result"
    }
   ],
   "source": [
    "news_articles.sample(20)"
   ]
  },
  {
   "cell_type": "code",
   "execution_count": 11,
   "id": "d03b9b43",
   "metadata": {},
   "outputs": [
    {
     "data": {
      "text/plain": [
       "Huffington Post     2455\n",
       "Businessweek        2395\n",
       "Contactmusic.com    2334\n",
       "Daily Mail          2254\n",
       "NASDAQ              2228\n",
       "Examiner.com        2085\n",
       "Name: PUBLISHER, dtype: int64"
      ]
     },
     "execution_count": 11,
     "metadata": {},
     "output_type": "execute_result"
    }
   ],
   "source": [
    "news_articles['PUBLISHER'].value_counts()"
   ]
  },
  {
   "cell_type": "code",
   "execution_count": 12,
   "id": "38dc4b49",
   "metadata": {},
   "outputs": [
    {
     "data": {
      "text/html": [
       "<div>\n",
       "<style scoped>\n",
       "    .dataframe tbody tr th:only-of-type {\n",
       "        vertical-align: middle;\n",
       "    }\n",
       "\n",
       "    .dataframe tbody tr th {\n",
       "        vertical-align: top;\n",
       "    }\n",
       "\n",
       "    .dataframe thead th {\n",
       "        text-align: right;\n",
       "    }\n",
       "</style>\n",
       "<table border=\"1\" class=\"dataframe\">\n",
       "  <thead>\n",
       "    <tr style=\"text-align: right;\">\n",
       "      <th></th>\n",
       "      <th>TITLE</th>\n",
       "      <th>PUBLISHER</th>\n",
       "    </tr>\n",
       "  </thead>\n",
       "  <tbody>\n",
       "    <tr>\n",
       "      <th>5</th>\n",
       "      <td>Plosser: Fed May Have to Accelerate Tapering Pace</td>\n",
       "      <td>NASDAQ</td>\n",
       "    </tr>\n",
       "    <tr>\n",
       "      <th>15</th>\n",
       "      <td>Forex - Pound drops to one-month lows against ...</td>\n",
       "      <td>NASDAQ</td>\n",
       "    </tr>\n",
       "    <tr>\n",
       "      <th>19</th>\n",
       "      <td>Euro Anxieties Wane as Bunds Top Treasuries, S...</td>\n",
       "      <td>Businessweek</td>\n",
       "    </tr>\n",
       "    <tr>\n",
       "      <th>20</th>\n",
       "      <td>Noyer Says Strong Euro Creates Unwarranted Eco...</td>\n",
       "      <td>Businessweek</td>\n",
       "    </tr>\n",
       "    <tr>\n",
       "      <th>63</th>\n",
       "      <td>EBay CEO Donahoe's Pay Drops by 53% to $13.8 M...</td>\n",
       "      <td>Businessweek</td>\n",
       "    </tr>\n",
       "    <tr>\n",
       "      <th>...</th>\n",
       "      <td>...</td>\n",
       "      <td>...</td>\n",
       "    </tr>\n",
       "    <tr>\n",
       "      <th>422198</th>\n",
       "      <td>Overweight kids are bullying targets</td>\n",
       "      <td>Examiner.com</td>\n",
       "    </tr>\n",
       "    <tr>\n",
       "      <th>422277</th>\n",
       "      <td>Deadly Ebola could affect up to 20000 people, ...</td>\n",
       "      <td>Daily Mail</td>\n",
       "    </tr>\n",
       "    <tr>\n",
       "      <th>422300</th>\n",
       "      <td>UN: Ebola Could Eventually Infect 20000 People</td>\n",
       "      <td>Huffington Post</td>\n",
       "    </tr>\n",
       "    <tr>\n",
       "      <th>422309</th>\n",
       "      <td>Ebola Cases May Surpass 20000, WHO Says in Upd...</td>\n",
       "      <td>Businessweek</td>\n",
       "    </tr>\n",
       "    <tr>\n",
       "      <th>422319</th>\n",
       "      <td>Air France suspends flights to Ebola-hit Sierr...</td>\n",
       "      <td>Daily Mail</td>\n",
       "    </tr>\n",
       "  </tbody>\n",
       "</table>\n",
       "<p>13751 rows × 2 columns</p>\n",
       "</div>"
      ],
      "text/plain": [
       "                                                    TITLE        PUBLISHER\n",
       "5       Plosser: Fed May Have to Accelerate Tapering Pace           NASDAQ\n",
       "15      Forex - Pound drops to one-month lows against ...           NASDAQ\n",
       "19      Euro Anxieties Wane as Bunds Top Treasuries, S...     Businessweek\n",
       "20      Noyer Says Strong Euro Creates Unwarranted Eco...     Businessweek\n",
       "63      EBay CEO Donahoe's Pay Drops by 53% to $13.8 M...     Businessweek\n",
       "...                                                   ...              ...\n",
       "422198               Overweight kids are bullying targets     Examiner.com\n",
       "422277  Deadly Ebola could affect up to 20000 people, ...       Daily Mail\n",
       "422300     UN: Ebola Could Eventually Infect 20000 People  Huffington Post\n",
       "422309  Ebola Cases May Surpass 20000, WHO Says in Upd...     Businessweek\n",
       "422319  Air France suspends flights to Ebola-hit Sierr...       Daily Mail\n",
       "\n",
       "[13751 rows x 2 columns]"
      ]
     },
     "execution_count": 12,
     "metadata": {},
     "output_type": "execute_result"
    }
   ],
   "source": [
    "news_articles"
   ]
  },
  {
   "cell_type": "code",
   "execution_count": 13,
   "id": "7d1fb438",
   "metadata": {},
   "outputs": [],
   "source": [
    "def label_text(corpus, publisher_name) :\n",
    "    doc = []\n",
    "    text =enumerate(corpus)\n",
    "    label = publisher_name\n",
    "    doc.append(TaggedDocument(text.split(), [label]))\n",
    "    return doc"
   ]
  },
  {
   "cell_type": "code",
   "execution_count": 14,
   "id": "2f823c80",
   "metadata": {},
   "outputs": [
    {
     "data": {
      "text/plain": [
       "'Plosser: Fed May Have to Accelerate Tapering Pace'"
      ]
     },
     "execution_count": 14,
     "metadata": {},
     "output_type": "execute_result"
    }
   ],
   "source": [
    "news_articles['TITLE'].iloc[0]"
   ]
  },
  {
   "cell_type": "code",
   "execution_count": 15,
   "id": "0c581b0a",
   "metadata": {},
   "outputs": [],
   "source": [
    "for index, row in news_articles.iterrows():\n",
    "    row[\"TITLE\"]=  row[\"TITLE\"].lower().split()"
   ]
  },
  {
   "cell_type": "code",
   "execution_count": 16,
   "id": "1baf5b53",
   "metadata": {},
   "outputs": [
    {
     "data": {
      "text/html": [
       "<div>\n",
       "<style scoped>\n",
       "    .dataframe tbody tr th:only-of-type {\n",
       "        vertical-align: middle;\n",
       "    }\n",
       "\n",
       "    .dataframe tbody tr th {\n",
       "        vertical-align: top;\n",
       "    }\n",
       "\n",
       "    .dataframe thead th {\n",
       "        text-align: right;\n",
       "    }\n",
       "</style>\n",
       "<table border=\"1\" class=\"dataframe\">\n",
       "  <thead>\n",
       "    <tr style=\"text-align: right;\">\n",
       "      <th></th>\n",
       "      <th>TITLE</th>\n",
       "      <th>PUBLISHER</th>\n",
       "    </tr>\n",
       "  </thead>\n",
       "  <tbody>\n",
       "    <tr>\n",
       "      <th>5</th>\n",
       "      <td>[plosser:, fed, may, have, to, accelerate, tap...</td>\n",
       "      <td>NASDAQ</td>\n",
       "    </tr>\n",
       "    <tr>\n",
       "      <th>15</th>\n",
       "      <td>[forex, -, pound, drops, to, one-month, lows, ...</td>\n",
       "      <td>NASDAQ</td>\n",
       "    </tr>\n",
       "    <tr>\n",
       "      <th>19</th>\n",
       "      <td>[euro, anxieties, wane, as, bunds, top, treasu...</td>\n",
       "      <td>Businessweek</td>\n",
       "    </tr>\n",
       "    <tr>\n",
       "      <th>20</th>\n",
       "      <td>[noyer, says, strong, euro, creates, unwarrant...</td>\n",
       "      <td>Businessweek</td>\n",
       "    </tr>\n",
       "    <tr>\n",
       "      <th>63</th>\n",
       "      <td>[ebay, ceo, donahoe's, pay, drops, by, 53%, to...</td>\n",
       "      <td>Businessweek</td>\n",
       "    </tr>\n",
       "  </tbody>\n",
       "</table>\n",
       "</div>"
      ],
      "text/plain": [
       "                                                TITLE     PUBLISHER\n",
       "5   [plosser:, fed, may, have, to, accelerate, tap...        NASDAQ\n",
       "15  [forex, -, pound, drops, to, one-month, lows, ...        NASDAQ\n",
       "19  [euro, anxieties, wane, as, bunds, top, treasu...  Businessweek\n",
       "20  [noyer, says, strong, euro, creates, unwarrant...  Businessweek\n",
       "63  [ebay, ceo, donahoe's, pay, drops, by, 53%, to...  Businessweek"
      ]
     },
     "execution_count": 16,
     "metadata": {},
     "output_type": "execute_result"
    }
   ],
   "source": [
    "news_articles.head()"
   ]
  },
  {
   "cell_type": "code",
   "execution_count": 17,
   "id": "26bcfacd",
   "metadata": {},
   "outputs": [],
   "source": [
    "#Tokeniizing the article text and adding label\n",
    "documents = []\n",
    "for index, row in news_articles.iterrows():\n",
    "\n",
    "    label = row[\"PUBLISHER\"]\n",
    "    documents.append(TaggedDocument(row[\"TITLE\"], [label]))"
   ]
  },
  {
   "cell_type": "code",
   "execution_count": 18,
   "id": "0f2fafa8",
   "metadata": {
    "scrolled": true
   },
   "outputs": [
    {
     "data": {
      "text/plain": [
       "[TaggedDocument(words=['plosser:', 'fed', 'may', 'have', 'to', 'accelerate', 'tapering', 'pace'], tags=['NASDAQ']),\n",
       " TaggedDocument(words=['forex', '-', 'pound', 'drops', 'to', 'one-month', 'lows', 'against', 'euro'], tags=['NASDAQ']),\n",
       " TaggedDocument(words=['euro', 'anxieties', 'wane', 'as', 'bunds', 'top', 'treasuries,', 'spain', 'debt', 'rallies'], tags=['Businessweek']),\n",
       " TaggedDocument(words=['noyer', 'says', 'strong', 'euro', 'creates', 'unwarranted', 'economic', 'pressure', '(1)'], tags=['Businessweek']),\n",
       " TaggedDocument(words=['ebay', 'ceo', \"donahoe's\", 'pay', 'drops', 'by', '53%', 'to', '$13.8', 'million', 'for', '2013'], tags=['Businessweek']),\n",
       " TaggedDocument(words=[\"mcdonald's\", 'blames', 'weak', 'sales', 'on', 'weather'], tags=['Huffington Post']),\n",
       " TaggedDocument(words=['stock', 'market', 'news', 'for', 'march', '10,', '2014', '-', 'market', 'news'], tags=['NASDAQ']),\n",
       " TaggedDocument(words=['u.s.', 'stocks', 'open', 'lower', 'in', 'subdued', 'trade;', 'dow', 'jones', 'down', '0.28%'], tags=['NASDAQ']),\n",
       " TaggedDocument(words=['dow', 'jones', 'transportation', 'average', 'pushing', 'higher'], tags=['NASDAQ']),\n",
       " TaggedDocument(words=['u.s.', 'futures', 'mixed', 'to', 'lower,', 'chinese', 'data', 'weighs;', 'dow', 'jones', 'down', '0.09%'], tags=['NASDAQ'])]"
      ]
     },
     "execution_count": 18,
     "metadata": {},
     "output_type": "execute_result"
    }
   ],
   "source": [
    "documents[:10]"
   ]
  },
  {
   "cell_type": "code",
   "execution_count": 19,
   "id": "9a38d3d3",
   "metadata": {},
   "outputs": [
    {
     "data": {
      "text/plain": [
       "13751"
      ]
     },
     "execution_count": 19,
     "metadata": {},
     "output_type": "execute_result"
    }
   ],
   "source": [
    "len(documents)"
   ]
  },
  {
   "cell_type": "code",
   "execution_count": 20,
   "id": "d067ee60",
   "metadata": {},
   "outputs": [],
   "source": [
    "\n",
    "#Defining Doc2vec model and building vocabulary\n",
    "\n",
    "model_dbow = Doc2Vec(dm=0, vector_size=3000, negative=5, min_count=1, alpha=0.09, min_alpha=0.09)\n",
    "model_dbow.build_vocab(documents)\n",
    "\n",
    "for epoch in range(30):\n",
    "    model_dbow.train(utils.shuffle(documents), total_examples=len(documents), epochs=1)\n",
    "    model_dbow.alpha -= 0.002\n",
    "    model_dbow.min_alpha = model_dbow.alpha"
   ]
  },
  {
   "cell_type": "code",
   "execution_count": 21,
   "id": "de1eaec9",
   "metadata": {},
   "outputs": [],
   "source": [
    "def D2V(news):\n",
    "    # input_news=str(input('Please paste yur article here: '));\n",
    "    input_news=str(news);\n",
    "    vector_of_input_news= model_dbow.infer_vector(input_news.split())\n",
    "    source_guess,source_similarity=model_dbow.dv.most_similar(vector_of_input_news, topn = 1)[0];\n",
    "    return source_guess"
   ]
  },
  {
   "cell_type": "code",
   "execution_count": 22,
   "id": "1513ff37",
   "metadata": {},
   "outputs": [
    {
     "name": "stdout",
     "output_type": "stream",
     "text": [
      "Predicted source of this input by our model is: Examiner.com\n"
     ]
    }
   ],
   "source": [
    "# test_news=input('Please paste yur article here: ');\n",
    "test_news='Rishi Sunak Wins Tory Leadership Race And Will Become Prime Minister'\n",
    "result=D2V(test_news)\n",
    "print('Predicted source of this input by our model is: '+ result)"
   ]
  }
 ],
 "metadata": {
  "kernelspec": {
   "display_name": "Python 3 (ipykernel)",
   "language": "python",
   "name": "python3"
  },
  "language_info": {
   "codemirror_mode": {
    "name": "ipython",
    "version": 3
   },
   "file_extension": ".py",
   "mimetype": "text/x-python",
   "name": "python",
   "nbconvert_exporter": "python",
   "pygments_lexer": "ipython3",
   "version": "3.11.4"
  },
  "vscode": {
   "interpreter": {
    "hash": "aee8b7b246df8f9039afb4144a1f6fd8d2ca17a180786b69acc140d282b71a49"
   }
  }
 },
 "nbformat": 4,
 "nbformat_minor": 5
}
